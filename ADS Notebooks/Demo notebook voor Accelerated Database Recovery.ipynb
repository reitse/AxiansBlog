{
    "metadata": {
        "kernelspec": {
            "name": "SQL",
            "display_name": "SQL",
            "language": "sql"
        },
        "language_info": {
            "name": "sql",
            "version": ""
        }
    },
    "nbformat_minor": 2,
    "nbformat": 4,
    "cells": [
        {
            "cell_type": "markdown",
            "source": [
                "Accellerated Database Recovery <br>\r\n",
                "Stap 1: maar een simpele database aan."
            ],
            "metadata": {
                "azdata_cell_guid": "a664eed0-cc5e-4d49-b93b-ae235389c997"
            }
        },
        {
            "cell_type": "code",
            "source": [
                "CREATE DATABASE [ADR]\r\n",
                " CONTAINMENT = NONE\r\n",
                " ON  PRIMARY \r\n",
                "( NAME = N'ADR', FILENAME = N'C:\\Program Files\\Microsoft SQL Server\\MSSQL15.SQL2019DEV\\MSSQL\\DATA\\ADR.mdf' , SIZE = 1024KB , MAXSIZE = UNLIMITED, FILEGROWTH = 65536KB )\r\n",
                " LOG ON \r\n",
                "( NAME = N'ADR_log', FILENAME = N'C:\\Program Files\\Microsoft SQL Server\\MSSQL15.SQL2019DEV\\MSSQL\\DATA\\ADR_log.ldf' , SIZE = 1024KB , MAXSIZE = 2048GB , FILEGROWTH = 65536KB )\r\n",
                " WITH CATALOG_COLLATION = DATABASE_DEFAULT\r\n",
                "GO\r\n",
                "\r\n",
                "CREATE DATABASE [ADR_OFF]\r\n",
                " CONTAINMENT = NONE\r\n",
                " ON  PRIMARY \r\n",
                "( NAME = N'ADR_OFF', FILENAME = N'C:\\Program Files\\Microsoft SQL Server\\MSSQL15.SQL2019DEV\\MSSQL\\DATA\\ADR_OFF.mdf' , SIZE = 1024KB , MAXSIZE = UNLIMITED, FILEGROWTH = 65536KB )\r\n",
                " LOG ON \r\n",
                "( NAME = N'ADR_OFF_log', FILENAME = N'C:\\Program Files\\Microsoft SQL Server\\MSSQL15.SQL2019DEV\\MSSQL\\DATA\\ADR_OFF_log.ldf' , SIZE = 1024KB , MAXSIZE = 2048GB , FILEGROWTH = 65536KB )\r\n",
                " WITH CATALOG_COLLATION = DATABASE_DEFAULT\r\n",
                "GO"
            ],
            "metadata": {
                "azdata_cell_guid": "8ea725f1-a831-4db4-9080-5ceed81517ec"
            },
            "outputs": [
                {
                    "output_type": "display_data",
                    "data": {
                        "text/html": "Commands completed successfully."
                    },
                    "metadata": {}
                },
                {
                    "output_type": "display_data",
                    "data": {
                        "text/html": "Commands completed successfully."
                    },
                    "metadata": {}
                },
                {
                    "output_type": "display_data",
                    "data": {
                        "text/html": "Total execution time: 00:00:01.358"
                    },
                    "metadata": {}
                }
            ],
            "execution_count": 1
        },
        {
            "cell_type": "markdown",
            "source": [
                "Tabel toevoegen die we gaan laden met een zinloos script"
            ],
            "metadata": {
                "azdata_cell_guid": "46dc83f9-e0a0-4776-b501-1416c5d0334c"
            }
        },
        {
            "cell_type": "code",
            "source": [
                "USE ADR_OFF;\r\n",
                "GO\r\n",
                "create table Axians_ADR_Demo (\r\n",
                "    ID int IDENTITY(1,1) PRIMARY KEY,\r\n",
                "    VALUE [uniqueidentifier] null,\r\n",
                "    CREATE_DATE DATETIME2 DEFAULT SYSDATETIME()\r\n",
                ")\r\n",
                "\r\n",
                "USE ADR;\r\n",
                "GO\r\n",
                "create table Axians_ADR_Demo (\r\n",
                "    ID int IDENTITY(1,1) PRIMARY KEY,\r\n",
                "    VALUE [uniqueidentifier] null,\r\n",
                "    CREATE_DATE DATETIME2 DEFAULT SYSDATETIME()\r\n",
                ")"
            ],
            "metadata": {
                "azdata_cell_guid": "783329fd-b2d0-4714-aa1f-d66a50fbc1b4"
            },
            "outputs": [
                {
                    "output_type": "display_data",
                    "data": {
                        "text/html": "Commands completed successfully."
                    },
                    "metadata": {}
                },
                {
                    "output_type": "display_data",
                    "data": {
                        "text/html": "Commands completed successfully."
                    },
                    "metadata": {}
                },
                {
                    "output_type": "display_data",
                    "data": {
                        "text/html": "Commands completed successfully."
                    },
                    "metadata": {}
                },
                {
                    "output_type": "display_data",
                    "data": {
                        "text/html": "Total execution time: 00:00:00.163"
                    },
                    "metadata": {}
                }
            ],
            "execution_count": 2
        },
        {
            "cell_type": "markdown",
            "source": [
                "Database ADR omzetten naar een database in Accelerated Database Recovery"
            ],
            "metadata": {
                "azdata_cell_guid": "dae099fb-0db6-4102-9be2-ea76aeb2c308"
            }
        },
        {
            "cell_type": "code",
            "source": [
                "ALTER DATABASE ADR SET ACCELERATED_DATABASE_RECOVERY = ON"
            ],
            "metadata": {
                "azdata_cell_guid": "51402751-dd71-4b24-a6d0-d09757c12f4a"
            },
            "outputs": [
                {
                    "output_type": "display_data",
                    "data": {
                        "text/html": "Commands completed successfully."
                    },
                    "metadata": {}
                },
                {
                    "output_type": "display_data",
                    "data": {
                        "text/html": "Total execution time: 00:00:00.026"
                    },
                    "metadata": {}
                }
            ],
            "execution_count": 3
        },
        {
            "cell_type": "markdown",
            "source": [
                "Tabelvulling genereren met een row by row procedure"
            ],
            "metadata": {
                "azdata_cell_guid": "395a8c73-8522-4f7c-847c-0fee372ce45b"
            }
        },
        {
            "cell_type": "code",
            "source": [
                "USE ADR;\n",
                "GO\n",
                "SET NOCOUNT ON;\n",
                "\n",
                "DECLARE @Counter INT = 1\n",
                "\n",
                "WHILE @Counter < 1000000\n",
                "BEGIN\n",
                "    INSERT INTO Axians_ADR_Demo(VALUE) values (NEWID())\n",
                "    SET @Counter += 1\n",
                "END\n",
                "\n",
                "USE ADR_OFF;\n",
                "GO\n",
                "SET NOCOUNT ON;\n",
                "\n",
                "DECLARE @Counter INT = 1\n",
                "WHILE @Counter < 1000000\n",
                "BEGIN\n",
                "    INSERT INTO Axians_ADR_Demo(VALUE) values (NEWID())\n",
                "    SET @Counter += 1\n",
                "END"
            ],
            "metadata": {
                "azdata_cell_guid": "eda5ea59-6d99-4dca-88d1-a022d28e57d2"
            },
            "outputs": [
                {
                    "output_type": "display_data",
                    "data": {
                        "text/html": "Commands completed successfully."
                    },
                    "metadata": {}
                },
                {
                    "output_type": "display_data",
                    "data": {
                        "text/html": "Commands completed successfully."
                    },
                    "metadata": {}
                },
                {
                    "output_type": "display_data",
                    "data": {
                        "text/html": "Commands completed successfully."
                    },
                    "metadata": {}
                },
                {
                    "output_type": "display_data",
                    "data": {
                        "text/html": "Total execution time: 01:57:54.261"
                    },
                    "metadata": {}
                }
            ],
            "execution_count": 1
        }
    ]
}